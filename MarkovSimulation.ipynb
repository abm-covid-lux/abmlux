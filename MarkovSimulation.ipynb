{
 "cells": [
  {
   "cell_type": "code",
   "execution_count": 2,
   "metadata": {},
   "outputs": [
    {
     "ename": "NameError",
     "evalue": "name 'tenminute' is not defined",
     "output_type": "error",
     "traceback": [
      "\u001b[1;31m---------------------------------------------------------------------------\u001b[0m",
      "\u001b[1;31mNameError\u001b[0m                                 Traceback (most recent call last)",
      "\u001b[1;32m<ipython-input-2-aa8b960faf1f>\u001b[0m in \u001b[0;36m<module>\u001b[1;34m\u001b[0m\n\u001b[0;32m     46\u001b[0m \u001b[1;32mfor\u001b[0m \u001b[0mt\u001b[0m \u001b[1;32min\u001b[0m \u001b[0mrange\u001b[0m\u001b[1;33m(\u001b[0m\u001b[1;36m7\u001b[0m\u001b[1;33m*\u001b[0m\u001b[1;36m144\u001b[0m\u001b[1;33m)\u001b[0m\u001b[1;33m:\u001b[0m\u001b[1;33m\u001b[0m\u001b[1;33m\u001b[0m\u001b[0m\n\u001b[0;32m     47\u001b[0m     \u001b[1;32mfor\u001b[0m \u001b[0mi\u001b[0m \u001b[1;32min\u001b[0m \u001b[0mrange\u001b[0m\u001b[1;33m(\u001b[0m\u001b[0mN\u001b[0m\u001b[1;33m)\u001b[0m\u001b[1;33m:\u001b[0m\u001b[1;33m\u001b[0m\u001b[1;33m\u001b[0m\u001b[0m\n\u001b[1;32m---> 48\u001b[1;33m         \u001b[0mtraj_adult\u001b[0m\u001b[1;33m[\u001b[0m\u001b[0mt\u001b[0m\u001b[1;33m+\u001b[0m\u001b[1;36m1\u001b[0m\u001b[1;33m]\u001b[0m\u001b[1;33m[\u001b[0m\u001b[0mi\u001b[0m\u001b[1;33m]\u001b[0m \u001b[1;33m=\u001b[0m \u001b[0mmultinoulli\u001b[0m\u001b[1;33m(\u001b[0m\u001b[0mTrans_adult\u001b[0m\u001b[1;33m[\u001b[0m\u001b[0mtenminute\u001b[0m\u001b[1;33m]\u001b[0m\u001b[1;33m[\u001b[0m\u001b[0mtraj_adult\u001b[0m\u001b[1;33m[\u001b[0m\u001b[0mt\u001b[0m\u001b[1;33m]\u001b[0m\u001b[1;33m[\u001b[0m\u001b[0mi\u001b[0m\u001b[1;33m]\u001b[0m\u001b[1;33m,\u001b[0m\u001b[1;33m:\u001b[0m\u001b[1;33m]\u001b[0m\u001b[1;33m)\u001b[0m\u001b[1;33m\u001b[0m\u001b[1;33m\u001b[0m\u001b[0m\n\u001b[0m\u001b[0;32m     49\u001b[0m \u001b[1;33m\u001b[0m\u001b[0m\n\u001b[0;32m     50\u001b[0m \u001b[1;31m#The results are saved:\u001b[0m\u001b[1;33m\u001b[0m\u001b[1;33m\u001b[0m\u001b[1;33m\u001b[0m\u001b[0m\n",
      "\u001b[1;31mNameError\u001b[0m: name 'tenminute' is not defined"
     ]
    }
   ],
   "source": [
    "\n",
    "#Markov Simulation\n",
    "\n",
    "#This file simulates the random movements of N individuals according to the dynamics constructed in t\n",
    "#he file MarkovModel. In the example below, the simulation is performed for adults. The code can easi\n",
    "#ly be adapted to instead simulate the behaviour of children or retired individuals. The simulation o\n",
    "#ccurs over 1 week.\n",
    "\n",
    "import numpy as np\n",
    "import random\n",
    "import xlsxwriter\n",
    "\n",
    "random.seed(9001)\n",
    "\n",
    "def multinoulli(problist):\n",
    "    p = random.randint(1,np.sum(problist))\n",
    "    summ = 0\n",
    "    for i in range(problist.size):\n",
    "        summ = summ + problist[i]\n",
    "        if summ >= p:\n",
    "            return i\n",
    "\n",
    "N = 1000 #Total population\n",
    "\n",
    "Init_adult = [0 for i in range(14)]\n",
    "Trans_adult = [[[0 for i in range(14)] for j in range(14)] for t in range(7*144)]\n",
    "\n",
    "Init_adult = np.genfromtxt('Initial_Distributions/Init_adult.csv', delimiter=',', dtype = 'int')\n",
    "\n",
    "for t in range(7*144):\n",
    "    Trans_adult[t] = np.genfromtxt('Transition_Matrices/Trans_adult_' + str(t) + '.csv', delimiter=',', dtype = 'int')\n",
    "\n",
    "#The trajectories of each individual will be recorded, descibing what individuals were doing duing ea\n",
    "#ch ten minute interval of the simulation:\n",
    "    \n",
    "traj_adult = [[0 for i in range(N)] for t in range((T*7*144)+1)]\n",
    "\n",
    "#The starting activity is randomized according to the intial distribution:\n",
    "\n",
    "for i in range(N):\n",
    "    traj_adult[0][i] = multinoulli(Init_adult)\n",
    "\n",
    "#Subsequent activities are determined by the time-inhomogeneous Markov chain determined by the transi\n",
    "#tion matrices:\n",
    "    \n",
    "t = 0\n",
    "for t in range(7*144):\n",
    "    for i in range(N):\n",
    "        traj_adult[t+1][i] = multinoulli(Trans_adult[tenminute][traj_adult[t][i],:])\n",
    "\n",
    "#The results are saved:\n",
    "        \n",
    "workbook = xlsxwriter.Workbook('Results/MarkovSimulation_Results.xlsx') \n",
    "worksheet = workbook.add_worksheet()\n",
    "\n",
    "for i in range(14):\n",
    "    for t in range(7*144):\n",
    "        worksheet.write(t,i, traj_adult[t].count(i))\n",
    "\n",
    "workbook.close() \n",
    "\n",
    "print('Done.')"
   ]
  },
  {
   "cell_type": "code",
   "execution_count": null,
   "metadata": {},
   "outputs": [],
   "source": []
  }
 ],
 "metadata": {
  "kernelspec": {
   "display_name": "Python 3",
   "language": "python",
   "name": "python3"
  },
  "language_info": {
   "codemirror_mode": {
    "name": "ipython",
    "version": 3
   },
   "file_extension": ".py",
   "mimetype": "text/x-python",
   "name": "python",
   "nbconvert_exporter": "python",
   "pygments_lexer": "ipython3",
   "version": "3.7.4"
  }
 },
 "nbformat": 4,
 "nbformat_minor": 2
}
