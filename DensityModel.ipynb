{
 "cells": [
  {
   "cell_type": "code",
   "execution_count": 6,
   "metadata": {},
   "outputs": [
    {
     "name": "stdout",
     "output_type": "stream",
     "text": [
      "Done.\n"
     ]
    }
   ],
   "source": [
    "\n",
    "#DensityModel\n",
    "\n",
    "#This file generates a population density matrix using data collected by the GEOSTAT initiative. Note\n",
    "#that Luxembourg measures 57 km x 82 km.\n",
    "\n",
    "import numpy as np\n",
    "from openpyxl import load_workbook\n",
    "import math\n",
    "\n",
    "wgtworkbook = load_workbook(filename='Data/JRC.xlsx')\n",
    "wgtsheet = wgtworkbook.active\n",
    "\n",
    "#xmin = 4014, xmax = 4070, xdifference = 56, ymin = 2934, ymax = 3015, ydifference = 81\n",
    "\n",
    "D = [[0 for x in range(57)] for y in range(82)]\n",
    "\n",
    "for s in range(2,81809):\n",
    "    if (wgtsheet.cell(row=s, column=3).value == \"LU\"):\n",
    "        x = int(wgtsheet.cell(row=s, column=2).value[9:13]) - 4014\n",
    "        y = int(wgtsheet.cell(row=s, column=2).value[4:8]) - 2934\n",
    "        D[y][x] = int(wgtsheet.cell(row=s, column=1).value)\n",
    "\n",
    "np.savetxt('Density_Map/Density_Map.csv', D, fmt='%i', delimiter=',')\n",
    "\n",
    "print('Done.')"
   ]
  }
 ],
 "metadata": {
  "kernelspec": {
   "display_name": "Python 3",
   "language": "python",
   "name": "python3"
  },
  "language_info": {
   "codemirror_mode": {
    "name": "ipython",
    "version": 3
   },
   "file_extension": ".py",
   "mimetype": "text/x-python",
   "name": "python",
   "nbconvert_exporter": "python",
   "pygments_lexer": "ipython3",
   "version": "3.7.4"
  }
 },
 "nbformat": 4,
 "nbformat_minor": 2
}
